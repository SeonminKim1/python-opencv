{
 "cells": [
  {
   "cell_type": "code",
   "execution_count": 1,
   "metadata": {},
   "outputs": [
    {
     "data": {
      "image/png": "[encoded data removed]",
      "text/plain": [
       "<Figure size 432x288 with 1 Axes>"
      ]
     },
     "metadata": {
      "needs_background": "light"
     },
     "output_type": "display_data"
    }
   ],
   "source": [
    "# 1. 이미지 출력하기\n",
    "import cv2\n",
    "from matplotlib import pyplot as plt\n",
    "imageFile = './images/hand2.jpg'\n",
    "imgBGR = cv2.imread(imageFile) \n",
    "plt.axis('off')\n",
    "\n",
    "imgRGB = cv2.cvtColor(imgBGR, cv2.COLOR_BGR2RGB)\n",
    "plt.imshow(imgRGB)\n",
    "plt.show()"
   ]
  },
  {
   "cell_type": "code",
   "execution_count": 2,
   "metadata": {},
   "outputs": [
    {
     "name": "stdout",
     "output_type": "stream",
     "text": [
      "frame_type: <class 'tuple'> frame_size= (640, 480)\n"
     ]
    }
   ],
   "source": [
    "# 2. 비디오 캡처와 화면 표시\n",
    "import cv2\n",
    "cap = cv2.VideoCapture(0)\n",
    "frame_size = (int(cap.get(cv2.CAP_PROP_FRAME_WIDTH)),\n",
    "              int(cap.get(cv2.CAP_PROP_FRAME_HEIGHT)))\n",
    "print('frame_type:', type(frame_size), 'frame_size=', frame_size)\n",
    "\n",
    "while True:\n",
    "    retval, frame = cap.read()\n",
    "    if not retval:\n",
    "        break\n",
    "    cv2.imshow('frame',frame)\n",
    "    \n",
    "    key = cv2.waitKey(25)\n",
    "    if key==27:\n",
    "        break\n",
    "if cap.isOpened():\n",
    "    cap.release()\n",
    "cv2.destroyAllWindows()"
   ]
  },
  {
   "cell_type": "code",
   "execution_count": 3,
   "metadata": {},
   "outputs": [
    {
     "name": "stdout",
     "output_type": "stream",
     "text": [
      "[[153 153 150 141 151 150 151 145 144 144]\n",
      " [146 144 151 155 148 149 146 148 145 145]\n",
      " [139 146 157 148 142 146 148 146 144 140]\n",
      " [145 153 146 135 139 147 149 148 140 138]\n",
      " [151 149 139 142 148 150 149 141 142 147]\n",
      " [151 144 143 151 152 150 139 138 145 144]\n",
      " [149 151 149 151 149 148 150 143 142 141]\n",
      " [159 149 145 146 150 151 152 144 132 137]\n",
      " [151 144 144 144 152 149 139 134 140 144]\n",
      " [142 142 151 151 143 142 133 143 146 136]]\n"
     ]
    }
   ],
   "source": [
    "# 3. 흑백영상 접근\n",
    "import cv2\n",
    "img = cv2.imread('./images/lena.png', cv2.IMREAD_GRAYSCALE)\n",
    "print(img[100:110, 200:210]) # Roi 접근\n",
    "\n",
    "for y in range(100,400):\n",
    "    for x in range(200,300):\n",
    "        img[y,x]=0\n",
    "\n",
    "img[100:400, 200:300]=0 # ROI접근\n",
    "\n",
    "cv2.imshow('img',img)\n",
    "cv2.waitKey()\n",
    "cv2.destroyAllWindows()\n"
   ]
  },
  {
   "cell_type": "code",
   "execution_count": 4,
   "metadata": {},
   "outputs": [
    {
     "name": "stdout",
     "output_type": "stream",
     "text": [
      "[[255   0   0]\n",
      " [109 117 213]\n",
      " [113 115 208]\n",
      " [114 101 199]\n",
      " [121 116 207]\n",
      " [105 114 209]\n",
      " [112 113 212]\n",
      " [107 109 204]\n",
      " [117 108 200]\n",
      " [110 109 202]]\n"
     ]
    }
   ],
   "source": [
    "# 4. 컬러 영상 접근\n",
    "import cv2\n",
    "img = cv2.imread('./images/lena.png')\n",
    "img[100,200]=[255,0,0] # 컬러 BGR 접근\n",
    "print(img[100, 200:210]) # ROI 접근\n",
    "\n",
    "for y in range(100,400):\n",
    "    for x in range(200,300):\n",
    "        img[y,x] = [255,0,0] # 파란색으로 변경\n",
    "img[100:400, 200:300]=[255,0,0] # ROI 접근\n",
    "\n",
    "cv2.imshow('img',img)\n",
    "cv2.waitKey()\n",
    "cv2.destroyAllWindows()"
   ]
  },
  {
   "cell_type": "code",
   "execution_count": 5,
   "metadata": {},
   "outputs": [
    {
     "name": "stdout",
     "output_type": "stream",
     "text": [
      "roi= (115, 147, 275, 270)\n"
     ]
    }
   ],
   "source": [
    "# 5.마우스로 ROI 영역 지정 (드래그)\n",
    "# roi = (206, 236, 71, 150)인데 -> roi[0]은 x열 roi[1]은 y행, roi[2]는 width, roi[3]은 height\n",
    "import cv2\n",
    "src = cv2.imread('./images/lena.png', cv2.IMREAD_GRAYSCALE)\n",
    "roi = cv2.selectROI(src) # 마우스로 ROI 영역 지정 \n",
    "\n",
    "print('roi=', roi)\n",
    "\n",
    "# img에 roi영역 저장.\n",
    "img = src[roi[1]:roi[1] + roi[3],\n",
    "          roi[0]:roi[0] + roi[2]]\n",
    "\n",
    "cv2.imshow('img',img)\n",
    "cv2.waitKey()\n",
    "cv2.destroyAllWindows()"
   ]
  },
  {
   "cell_type": "code",
   "execution_count": 6,
   "metadata": {},
   "outputs": [],
   "source": [
    "# 6. 영상 복사 copy와 참조 차이\n",
    "import cv2\n",
    "src = cv2.imread('./images/lena.png')\n",
    "\n",
    "dst2 = src\n",
    "dst = src.copy() # 복사\n",
    "\n",
    "src[100:400, 200:300]=0\n",
    "\n",
    "cv2.imshow('src',src)\n",
    "cv2.imshow('dst',dst)\n",
    "cv2.imshow('dst2',dst2)\n",
    "cv2.waitKey()\n",
    "cv2.destroyAllWindows()"
   ]
  },
  {
   "cell_type": "code",
   "execution_count": 7,
   "metadata": {},
   "outputs": [],
   "source": [
    "# 7. 영상 크기 변환, 회전\n",
    "import cv2\n",
    "import numpy as np\n",
    "src = cv2.imread('./images/lena.png', cv2.IMREAD_GRAYSCALE)\n",
    "dst = cv2.resize(src, dsize = (320,240)) # resize 가로 320 세로 240으로\n",
    "dst2 = cv2.resize(src, dsize=(0,0), fx=1.5, fy=1.2) # resize 가로 1.5배 세로 1.2배\n",
    "\n",
    "dst_rotate = cv2.rotate(src, cv2.ROTATE_90_CLOCKWISE)\n",
    "dst_rotate2 = cv2.rotate(src, cv2.ROTATE_90_COUNTERCLOCKWISE)\n",
    "cv2.imshow('dst1',dst) # 가로세로 고정크기\n",
    "cv2.imshow('dst2',dst2) # 가로 배율로 늘리기\n",
    "cv2.imshow('dst_roate',dst_rotate) # 회전 시계방향\n",
    "cv2.imshow('dst_rotate2',dst_rotate2) # 회전 반시계\n",
    "cv2.waitKey()\n",
    "cv2.destroyAllWindows()"
   ]
  },
  {
   "cell_type": "code",
   "execution_count": 8,
   "metadata": {},
   "outputs": [],
   "source": [
    "# 8. 영상 어파인 변환 (확대/축소, 회전)\n",
    "import cv2\n",
    "import numpy as np\n",
    "src = cv2.imread('./images/lena.png')\n",
    "\n",
    "rows, cols, channels = src.shape\n",
    "M1 = cv2.getRotationMatrix2D((rows/2, cols/2), 45, 0.5) # getRotataionMatrix2D( center, angle, scale) \n",
    "M2 = cv2.getRotationMatrix2D((rows/2, cols/2), -45, 1.0) \n",
    "\n",
    "dst1 = cv2.warpAffine(src, M1, (rows, cols)) # warpAffine( src, M, dsize) -> M은 변환행렬\n",
    "dst2 = cv2.warpAffine(src, M2, (rows, cols))\n",
    "\n",
    "cv2.imshow('dst1', dst1)\n",
    "cv2.imshow('dst2', dst2)\n",
    "cv2.waitKey()\n",
    "cv2.destroyAllWindows()"
   ]
  },
  {
   "cell_type": "code",
   "execution_count": 9,
   "metadata": {},
   "outputs": [
    {
     "name": "stdout",
     "output_type": "stream",
     "text": [
      "ret= 120.0\n",
      "ret2= 124.0\n"
     ]
    }
   ],
   "source": [
    "# 9. 임계값 영상\n",
    "import cv2\n",
    "import numpy as np\n",
    "src = cv2.imread('./images/lena.png', cv2.IMREAD_GRAYSCALE)\n",
    "cv2.imshow('src',src)\n",
    "\n",
    "ret, dst = cv2.threshold(src, 120, 255, cv2.THRESH_BINARY)\n",
    "print('ret=',ret)\n",
    "cv2.imshow('dst',dst)\n",
    "\n",
    "# thresh_otsu를 추가하면 임계값 thresh와 관계없이 otsu알고리즘으로 최적 임계값 계산 됨0\n",
    "ret2, dst2 = cv2.threshold(src,200,255, cv2.THRESH_BINARY + cv2.THRESH_OTSU)# 즉 여기선 주어진 임계값 200이 아닌 170이 threshold가 됨.\n",
    "print(\"ret2=\",ret2)\n",
    "cv2.imshow('dst2',dst2)\n",
    "\n",
    "cv2.waitKey()\n",
    "cv2.destroyAllWindows()"
   ]
  },
  {
   "cell_type": "code",
   "execution_count": 10,
   "metadata": {},
   "outputs": [],
   "source": [
    "# 10. 적응형 임계값 영상\n",
    "import cv2\n",
    "import numpy as np\n",
    "src = cv2.imread('./images/lena.png', cv2.IMREAD_GRAYSCALE)\n",
    "cv2.imshow('src',src)\n",
    "\n",
    "ret,dst = cv2.threshold(src,0,255, cv2.THRESH_BINARY + cv2.THRESH_OTSU)\n",
    "cv2.imshow('dst',dst)\n",
    "\n",
    "# 젤 괜찮은 방법1\n",
    "dst2 = cv2.adaptiveThreshold(src,255,cv2.ADAPTIVE_THRESH_MEAN_C, cv2.THRESH_BINARY, 51, 7)\n",
    "cv2.imshow('dst2',dst2)\n",
    "\n",
    "# 젤 괜찮은방법2\n",
    "dst3 = cv2.adaptiveThreshold(src, 255, cv2.ADAPTIVE_THRESH_GAUSSIAN_C, cv2.THRESH_BINARY, 51, 7)\n",
    "cv2.imshow('dst3',dst3)\n",
    "\n",
    "cv2.waitKey()\n",
    "cv2.destroyAllWindows()"
   ]
  }
 ],
 "metadata": {
  "kernelspec": {
   "display_name": "Python 3",
   "language": "python",
   "name": "python3"
  },
  "language_info": {
   "codemirror_mode": {
    "name": "ipython",
    "version": 3
   },
   "file_extension": ".py",
   "mimetype": "text/x-python",
   "name": "python",
   "nbconvert_exporter": "python",
   "pygments_lexer": "ipython3",
   "version": "3.7.5"
  }
 },
 "nbformat": 4,
 "nbformat_minor": 4
}
