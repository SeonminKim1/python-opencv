{
 "cells": [
  {
   "cell_type": "code",
   "execution_count": 11,
   "metadata": {},
   "outputs": [
    {
     "name": "stdout",
     "output_type": "stream",
     "text": [
      "lines.shape= (27, 1, 2)\n"
     ]
    }
   ],
   "source": [
    "# 21 Hough 변환에 의한 직선, 원 검출\n",
    "# Sobel, Log, Canny로 검출한 엣지는 단순히 화소들의 집합이다. Hough변환을 사용하면 직선 또는 원의 방정식의 파라미터를 검출할 수 있다.\n",
    "# 즉 위의 방법으로 구한 엣지는 사각형, 직선, 원, 곡선 등의 구조적 정보를 갖지 안흔다.\n",
    "# HoughLines\n",
    "import cv2\n",
    "import numpy as np\n",
    "\n",
    "src=cv2.imread('./images/figure.png')\n",
    "gray = cv2.cvtColor(src, cv2.COLOR_BGR2GRAY)\n",
    "edges = cv2.Canny(gray, 50, 100)\n",
    "lines = cv2.HoughLines(edges, rho=1, theta=np.pi/180.0, threshold=100) # edge에 저장, rho=원점으로부터의 거리 간격 theta는 x축과의 각도, threshold는 직선을 검출하기 위한 임계값\n",
    "print('lines.shape=',lines.shape)\n",
    "\n",
    "# lines 는 (27, 1, 2) -> 27개의 직선 / rho - 거리 1 / theta - 2라디안 \n",
    "for line in lines:\n",
    "    rho, theta = line[0]\n",
    "    c = np.cos(theta)\n",
    "    s = np.sin(theta)\n",
    "    x0 = c * rho\n",
    "    y0 = s * rho\n",
    "    x1 = int(x0 + 1000 * (-s))\n",
    "    y1 = int(y0 + 1000 * (c))\n",
    "    x2 = int(x0 -1000 * (-s))\n",
    "    y2 = int(x0 -1000 * (c))\n",
    "    cv2.line(src, (x1,y1),  (x2,y2), (0,0,255), 2)\n",
    "    \n",
    "cv2.imshow('edges', edges)\n",
    "cv2.imshow('src', src)\n",
    "cv2.waitKey()\n",
    "cv2.destroyAllWindows()"
   ]
  },
  {
   "cell_type": "markdown",
   "metadata": {},
   "source": [
    "![21hough](output_image/21hough.PNG)"
   ]
  },
  {
   "cell_type": "code",
   "execution_count": 13,
   "metadata": {},
   "outputs": [
    {
     "name": "stdout",
     "output_type": "stream",
     "text": [
      "lines.shape= (21, 1, 4)\n"
     ]
    }
   ],
   "source": [
    "# 22 Hough 선분 검출 HoughLinesP()\n",
    "import cv2\n",
    "import numpy as np\n",
    "\n",
    "src = cv2.imread('./images/figure.png')\n",
    "gray= cv2.cvtColor(src, cv2.COLOR_BGR2GRAY)\n",
    "edges = cv2.Canny(gray, 50, 100)\n",
    "lines = cv2.HoughLinesP(edges, rho=1, theta=np.pi/180.0, threshold=100)\n",
    "print('lines.shape=', lines.shape)\n",
    "\n",
    "for line in lines:\n",
    "    x1, y1, x2, y2 = line[0] # 각 선분의 양 끝점 정보\n",
    "    cv2.line(src, (x1,y1), (x2,y2), (0,0,255), 2)\n",
    "\n",
    "cv2.imshow(\"edges\",edges)\n",
    "cv2.imshow('src',src)\n",
    "cv2.waitKey()\n",
    "cv2.destroyAllWindows()"
   ]
  },
  {
   "cell_type": "markdown",
   "metadata": {},
   "source": [
    "![22hough](output_image/22hough.PNG)"
   ]
  },
  {
   "cell_type": "code",
   "execution_count": 15,
   "metadata": {},
   "outputs": [
    {
     "name": "stdout",
     "output_type": "stream",
     "text": [
      "circles1.shape= (1, 14, 3)\n"
     ]
    }
   ],
   "source": [
    "# 23 HoughCircle() 원 검출\n",
    "import cv2\n",
    "import numpy as np\n",
    "\n",
    "#1 \n",
    "src1 = cv2.imread('./images/circle1.png')\n",
    "gray1 = cv2.cvtColor(src1, cv2.COLOR_BGR2GRAY)\n",
    "circles1 = cv2.HoughCircles(gray1, method=cv2.HOUGH_GRADIENT, dp=1, minDist=50, param2=15)\n",
    "print('circles1.shape=', circles1.shape)\n",
    "\n",
    "# circles.shape -> (1,6,3) -> 6개의 행이 원의 cx, cy, r을 저장함\n",
    "for circle in circles1[0,:]:\n",
    "    cx, cy, r = circle\n",
    "    cv2.circle(src1, (cx,cy),r,(0,0,255),2)\n",
    "cv2.imshow('src1', src1)\n",
    "\n",
    "cv2.waitKey()\n",
    "cv2.destroyAllWindows()"
   ]
  },
  {
   "cell_type": "markdown",
   "metadata": {},
   "source": [
    "![23houghcircle](output_image/23houghcircle.PNG)"
   ]
  },
  {
   "cell_type": "code",
   "execution_count": 17,
   "metadata": {},
   "outputs": [],
   "source": [
    "# 24 inRange를 이용한 영역 검출\n",
    "import cv2\n",
    "import numpy as np\n",
    "\n",
    "#1 살색에 대한 영역 검출\n",
    "src1 = cv2.imread('./images/hand2.jpg')\n",
    "hsv1 = cv2.cvtColor(src1, cv2.COLOR_BGR2HSV)\n",
    "lowerb1 = (0,40,0)\n",
    "upperb1 = (20,180,255)\n",
    "\n",
    "dst1 = cv2.inRange(hsv1, lowerb1, upperb1)\n",
    "\n",
    "#2 \n",
    "src2 = cv2.imread('./images/flower.jpg')\n",
    "hsv2 = cv2.cvtColor(src2, cv2.COLOR_BGR2HSV)\n",
    "lowerb2 = (150,100,100)\n",
    "upperb2 = (180,255,255)\n",
    "dst2 = cv2.inRange(hsv2, lowerb2, upperb2)\n",
    "\n",
    "#3\n",
    "cv2.imshow('src1',src1)\n",
    "cv2.imshow('dst1',dst1)\n",
    "cv2.imshow('src2',src2)\n",
    "cv2.imshow('dst2',dst2)\n",
    "cv2.waitKey()\n",
    "cv2.destroyAllWindows()"
   ]
  },
  {
   "cell_type": "markdown",
   "metadata": {},
   "source": [
    "![24inrange](output_image/24inrange.PNG)"
   ]
  },
  {
   "cell_type": "code",
   "execution_count": 20,
   "metadata": {},
   "outputs": [
    {
     "name": "stdout",
     "output_type": "stream",
     "text": [
      "type(contours)= <class 'list'>\n",
      "type(contours[0])= <class 'numpy.ndarray'>\n",
      "len(contours)= 1\n",
      "contours[0].shape= (4, 1, 2)\n",
      "contours[0]= [[[ 50 100]]\n",
      "\n",
      " [[ 50 400]]\n",
      "\n",
      " [[450 400]]\n",
      "\n",
      " [[450 100]]]\n"
     ]
    }
   ],
   "source": [
    "# 25 윤곽선 검출\n",
    "\n",
    "import cv2\n",
    "import numpy as np\n",
    "\n",
    "#1\n",
    "src = np.zeros(shape=(512,512,3), dtype=np.uint8)\n",
    "cv2.rectangle(src, (50,100), (450,400), (255,255,255), -1)\n",
    "cv2.rectangle(src, (100,150), (400,350), (0,0,0), -1)\n",
    "cv2.rectangle(src, (200, 200), (300, 300), (255,255,255), -1)\n",
    "gray = cv2.cvtColor(src, cv2.COLOR_BGR2GRAY)\n",
    "\n",
    "#2 \n",
    "mode = cv2.RETR_EXTERNAL\n",
    "method = cv2.CHAIN_APPROX_SIMPLE\n",
    "_, contours, hierarchy = cv2.findContours(gray, mode, method)\n",
    "print('type(contours)=', type(contours)) # list\n",
    "print('type(contours[0])=', type(contours[0])) # ndarray\n",
    "print('len(contours)=', len(contours)) # mode가 RETR_EXTERNAL이라서 가장 외곽선 1개만 추출됨\n",
    "print('contours[0].shape=', contours[0].shape) # (4,1,2 )-> 4개의 검출된 자표가 1,2 배열에 저장됨\n",
    "print('contours[0]=', contours[0])\n",
    "\n",
    "#3 윤곽선 그리기\n",
    "cv2.drawContours(src,contours, -1, (255,0,0), 3) # 모든 윤곽선 - BLUE (테두리)\n",
    "\n",
    "#4 \n",
    "for pt in contours[0][:]: # 윤곽선 좌표\n",
    "    cv2.circle(src,(pt[0][0], pt[0][1]), 5, (0,0,255), -1)\n",
    "    \n",
    "cv2.imshow('src',src)\n",
    "cv2.waitKey()\n",
    "cv2.destroyAllWindows()"
   ]
  },
  {
   "cell_type": "markdown",
   "metadata": {},
   "source": [
    "![25drawcontour](output_image/25drawcontour.PNG)"
   ]
  },
  {
   "cell_type": "code",
   "execution_count": 22,
   "metadata": {},
   "outputs": [
    {
     "name": "stdout",
     "output_type": "stream",
     "text": [
      "len(contours)= 3\n",
      "contours[0].shape= (4, 1, 2)\n",
      "contours= [array([[[200, 200]],\n",
      "\n",
      "       [[200, 300]],\n",
      "\n",
      "       [[300, 300]],\n",
      "\n",
      "       [[300, 200]]], dtype=int32), array([[[ 99, 150]],\n",
      "\n",
      "       [[100, 149]],\n",
      "\n",
      "       [[400, 149]],\n",
      "\n",
      "       [[401, 150]],\n",
      "\n",
      "       [[401, 350]],\n",
      "\n",
      "       [[400, 351]],\n",
      "\n",
      "       [[100, 351]],\n",
      "\n",
      "       [[ 99, 350]]], dtype=int32), array([[[ 50, 100]],\n",
      "\n",
      "       [[ 50, 400]],\n",
      "\n",
      "       [[450, 400]],\n",
      "\n",
      "       [[450, 100]]], dtype=int32)]\n"
     ]
    }
   ],
   "source": [
    "# 26 윤곽선 검출 및 그리기 \n",
    "# RETR_LIST - 모든 점 검출하기, 윤곽선 검출하기\n",
    "import cv2\n",
    "import numpy as np\n",
    "\n",
    "#1\n",
    "src = np.zeros(shape=(512,512,3), dtype=np.uint8)\n",
    "cv2.rectangle(src, (50,100), (450,400), (255,255,255), -1)\n",
    "cv2.rectangle(src, (100,150), (400,350), (0,0,0), -1)\n",
    "cv2.rectangle(src, (200, 200), (300, 300), (255,255,255), -1)\n",
    "gray = cv2.cvtColor(src, cv2.COLOR_BGR2GRAY)\n",
    "\n",
    "#2 \n",
    "mode = cv2.RETR_LIST\n",
    "method = cv2.CHAIN_APPROX_SIMPLE\n",
    "_, contours, hierarchy = cv2.findContours(gray, mode, method)\n",
    "\n",
    "print('len(contours)=', len(contours)) # mode가 RETR_LIST로 리스트 contours에 len(contours)=3개의 모든 윤곽선을 검출\n",
    "print('contours[0].shape=', contours[0].shape) # (4,1,2 )-> 4개의 검출된 자표가 1,2 배열에 저장됨\n",
    "print('contours=', contours)\n",
    "\n",
    "#3 모듄 윤곽선 출력\n",
    "for cnt in contours:\n",
    "    cv2.drawContours(src, [cnt], 0, (0,255,0), 3)\n",
    "    for pt in cnt: # 윤곽선 좌표\n",
    "        cv2.circle(src, (pt[0][0], pt[0][1]), 5, (0,0,255), -1)\n",
    "cv2.imshow('src', src)\n",
    "cv2.waitKey()\n",
    "cv2.destroyAllWindows()"
   ]
  },
  {
   "cell_type": "markdown",
   "metadata": {},
   "source": [
    "![26drawcontour](output_image/26drawcontour.PNG)"
   ]
  },
  {
   "cell_type": "code",
   "execution_count": 25,
   "metadata": {},
   "outputs": [
    {
     "name": "stdout",
     "output_type": "stream",
     "text": [
      "rect= (202, 202, 197, 197)\n"
     ]
    }
   ],
   "source": [
    "# 27. 영역 채우기 - floodFill\n",
    "import cv2\n",
    "import numpy as np\n",
    "\n",
    "#1 \n",
    "src = np.full((512,512,3), (255,255,255), dtype = np.uint8)\n",
    "cv2.rectangle(src, (50,50), (200,200), (0,0,255),2)\n",
    "cv2.circle(src, (300,300), 100, (0,0,255), 2)\n",
    "\n",
    "#2 src 복사해서 내부 채움 floodfill로\n",
    "dst = src.copy()\n",
    "cv2.floodFill(dst, mask = None, seedPoint=(100,100), newVal = (255,0,0))\n",
    "\n",
    "#3 seedPoint는 시작점.\n",
    "retval ,dst2, mask, rect = cv2.floodFill(dst, mask = None, seedPoint = (300,300), newVal = (0,255,0))\n",
    "print('rect=', rect)\n",
    "x,y,width, height = rect\n",
    "cv2.rectangle(dst2, (x,y), (x+width, y+height), (255,0,0),2)\n",
    "\n",
    "cv2.imshow('src', src)\n",
    "cv2.imshow('dst', dst)\n",
    "cv2.waitKey()\n",
    "cv2.destroyAllWindows()"
   ]
  },
  {
   "cell_type": "markdown",
   "metadata": {},
   "source": [
    "![27floodfill](output_image/27floodfill.PNG)"
   ]
  },
  {
   "cell_type": "code",
   "execution_count": 26,
   "metadata": {},
   "outputs": [
    {
     "name": "stdout",
     "output_type": "stream",
     "text": [
      "src: 0.0 51.0 (0, 0) (100, 250)\n",
      "src: 0.0 8.0 (0, 0) (52, 200)\n"
     ]
    }
   ],
   "source": [
    "# 28 distanceTransform() 거리 계산\n",
    "import cv2\n",
    "import numpy as np\n",
    "\n",
    "#1 \n",
    "src = np.zeros(shape=(512,512), dtype=np.uint8)\n",
    "cv2.rectangle(src, (50,200), (450,300), (255,255,255), -1)\n",
    "\n",
    "#2 \n",
    "dist = cv2.distanceTransform(src, distanceType=cv2.DIST_L1, maskSize=3)\n",
    "minVal, maxVal, minLoc, maxLoc = cv2.minMaxLoc(dist)\n",
    "print('src:', minVal, maxVal, minLoc, maxLoc)\n",
    "\n",
    "dst = cv2.normalize(dist, None, 0, 255, cv2.NORM_MINMAX, dtype = cv2.CV_8U)\n",
    "ret, dst2 = cv2.threshold(dist, maxVal-1, 255, cv2.THRESH_BINARY)\n",
    "\n",
    "#3 \n",
    "gx = cv2.Sobel(dist, cv2.CV_32F, 1, 0, ksize=3)\n",
    "gy = cv2.Sobel(dist, cv2.CV_32F, 0, 1, ksize=3)\n",
    "mag = cv2.magnitude(gx, gy)\n",
    "minVal, maxVal, minLoc, maxLoc = cv2.minMaxLoc(mag)\n",
    "print('src:', minVal, maxVal, minLoc, maxLoc)\n",
    "ret, dst3 = cv2.threshold(mag, maxVal-2, 255, cv2.THRESH_BINARY_INV)\n",
    "\n",
    "cv2.imshow('src', src)\n",
    "cv2.imshow('dst', dst)\n",
    "cv2.imshow('dst2', dst2)\n",
    "cv2.imshow('dst3', dst3)\n",
    "cv2.waitKey()\n",
    "cv2.destroyAllWindows()"
   ]
  },
  {
   "cell_type": "markdown",
   "metadata": {},
   "source": [
    "![28distancetransform](output_image/28distancetransform.PNG)"
   ]
  }
 ],
 "metadata": {
  "kernelspec": {
   "display_name": "Python 3",
   "language": "python",
   "name": "python3"
  },
  "language_info": {
   "codemirror_mode": {
    "name": "ipython",
    "version": 3
   },
   "file_extension": ".py",
   "mimetype": "text/x-python",
   "name": "python",
   "nbconvert_exporter": "python",
   "pygments_lexer": "ipython3",
   "version": "3.7.5"
  }
 },
 "nbformat": 4,
 "nbformat_minor": 2
}
