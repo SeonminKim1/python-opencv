{
 "cells": [
  {
   "cell_type": "code",
   "execution_count": 1,
   "metadata": {},
   "outputs": [
    {
     "data": {
      "image/png": "[encoded data removed]",
      "text/plain": [
       "<Figure size 432x288 with 1 Axes>"
      ]
     },
     "metadata": {
      "needs_background": "light"
     },
     "output_type": "display_data"
    }
   ],
   "source": [
    "# 1. 이미지 출력하기\n",
    "import cv2\n",
    "from matplotlib import pyplot as plt\n",
    "imageFile = './images/hand2.jpg'\n",
    "imgBGR = cv2.imread(imageFile) \n",
    "plt.axis('off')\n",
    "\n",
    "imgRGB = cv2.cvtColor(imgBGR, cv2.COLOR_BGR2RGB)\n",
    "plt.imshow(imgRGB)\n",
    "plt.show()"
   ]
  },
  {
   "cell_type": "code",
   "execution_count": 2,
   "metadata": {},
   "outputs": [
    {
     "name": "stdout",
     "output_type": "stream",
     "text": [
      "frame_type: <class 'tuple'> frame_size= (640, 480)\n"
     ]
    }
   ],
   "source": [
    "# 2. 비디오 캡처와 화면 표시\n",
    "import cv2\n",
    "cap = cv2.VideoCapture(0)\n",
    "frame_size = (int(cap.get(cv2.CAP_PROP_FRAME_WIDTH)),\n",
    "              int(cap.get(cv2.CAP_PROP_FRAME_HEIGHT)))\n",
    "print('frame_type:', type(frame_size), 'frame_size=', frame_size)\n",
    "\n",
    "while True:\n",
    "    retval, frame = cap.read()\n",
    "    if not retval:\n",
    "        break\n",
    "    cv2.imshow('frame',frame)\n",
    "    \n",
    "    key = cv2.waitKey(25)\n",
    "    if key==27:\n",
    "        break\n",
    "if cap.isOpened():\n",
    "    cap.release()\n",
    "cv2.destroyAllWindows()"
   ]
  },
  {
   "cell_type": "code",
   "execution_count": 3,
   "metadata": {},
   "outputs": [
    {
     "name": "stdout",
     "output_type": "stream",
     "text": [
      "[[153 153 150 141 151 150 151 145 144 144]\n",
      " [146 144 151 155 148 149 146 148 145 145]\n",
      " [139 146 157 148 142 146 148 146 144 140]\n",
      " [145 153 146 135 139 147 149 148 140 138]\n",
      " [151 149 139 142 148 150 149 141 142 147]\n",
      " [151 144 143 151 152 150 139 138 145 144]\n",
      " [149 151 149 151 149 148 150 143 142 141]\n",
      " [159 149 145 146 150 151 152 144 132 137]\n",
      " [151 144 144 144 152 149 139 134 140 144]\n",
      " [142 142 151 151 143 142 133 143 146 136]]\n"
     ]
    }
   ],
   "source": [
    "# 3. 흑백영상 접근\n",
    "import cv2\n",
    "img = cv2.imread('./images/lena.png', cv2.IMREAD_GRAYSCALE)\n",
    "print(img[100:110, 200:210]) # Roi 접근\n",
    "\n",
    "for y in range(100,400):\n",
    "    for x in range(200,300):\n",
    "        img[y,x]=0\n",
    "\n",
    "img[100:400, 200:300]=0 # ROI접근\n",
    "\n",
    "cv2.imshow('img',img)\n",
    "cv2.waitKey()\n",
    "cv2.destroyAllWindows()\n"
   ]
  },
  {
   "cell_type": "code",
   "execution_count": 4,
   "metadata": {},
   "outputs": [
    {
     "name": "stdout",
     "output_type": "stream",
     "text": [
      "[[255   0   0]\n",
      " [109 117 213]\n",
      " [113 115 208]\n",
      " [114 101 199]\n",
      " [121 116 207]\n",
      " [105 114 209]\n",
      " [112 113 212]\n",
      " [107 109 204]\n",
      " [117 108 200]\n",
      " [110 109 202]]\n"
     ]
    }
   ],
   "source": [
    "# 4. 컬러 영상 접근\n",
    "import cv2\n",
    "img = cv2.imread('./images/lena.png')\n",
    "img[100,200]=[255,0,0] # 컬러 BGR 접근\n",
    "print(img[100, 200:210]) # ROI 접근\n",
    "\n",
    "for y in range(100,400):\n",
    "    for x in range(200,300):\n",
    "        img[y,x] = [255,0,0] # 파란색으로 변경\n",
    "img[100:400, 200:300]=[255,0,0] # ROI 접근\n",
    "\n",
    "cv2.imshow('img',img)\n",
    "cv2.waitKey()\n",
    "cv2.destroyAllWindows()"
   ]
  },
  {
   "cell_type": "code",
   "execution_count": 5,
   "metadata": {},
   "outputs": [
    {
     "name": "stdout",
     "output_type": "stream",
     "text": [
      "roi= (115, 147, 275, 270)\n"
     ]
    }
   ],
   "source": [
    "# 5.마우스로 ROI 영역 지정 (드래그)\n",
    "# roi = (206, 236, 71, 150)인데 -> roi[0]은 x열 roi[1]은 y행, roi[2]는 width, roi[3]은 height\n",
    "import cv2\n",
    "src = cv2.imread('./images/lena.png', cv2.IMREAD_GRAYSCALE)\n",
    "roi = cv2.selectROI(src) # 마우스로 ROI 영역 지정 \n",
    "\n",
    "print('roi=', roi)\n",
    "\n",
    "# img에 roi영역 저장.\n",
    "img = src[roi[1]:roi[1] + roi[3],\n",
    "          roi[0]:roi[0] + roi[2]]\n",
    "\n",
    "cv2.imshow('img',img)\n",
    "cv2.waitKey()\n",
    "cv2.destroyAllWindows()"
   ]
  },
  {
   "cell_type": "code",
   "execution_count": 6,
   "metadata": {},
   "outputs": [],
   "source": [
    "# 6. 영상 복사 copy와 참조 차이\n",
    "import cv2\n",
    "src = cv2.imread('./images/lena.png')\n",
    "\n",
    "dst2 = src\n",
    "dst = src.copy() # 복사\n",
    "\n",
    "src[100:400, 200:300]=0\n",
    "\n",
    "cv2.imshow('src',src)\n",
    "cv2.imshow('dst',dst)\n",
    "cv2.imshow('dst2',dst2)\n",
    "cv2.waitKey()\n",
    "cv2.destroyAllWindows()"
   ]
  },
  {
   "cell_type": "code",
   "execution_count": 7,
   "metadata": {},
   "outputs": [],
   "source": [
    "# 7. 영상 크기 변환, 회전\n",
    "import cv2\n",
    "import numpy as np\n",
    "src = cv2.imread('./images/lena.png', cv2.IMREAD_GRAYSCALE)\n",
    "dst = cv2.resize(src, dsize = (320,240)) # resize 가로 320 세로 240으로\n",
    "dst2 = cv2.resize(src, dsize=(0,0), fx=1.5, fy=1.2) # resize 가로 1.5배 세로 1.2배\n",
    "\n",
    "dst_rotate = cv2.rotate(src, cv2.ROTATE_90_CLOCKWISE)\n",
    "dst_rotate2 = cv2.rotate(src, cv2.ROTATE_90_COUNTERCLOCKWISE)\n",
    "cv2.imshow('dst1',dst) # 가로세로 고정크기\n",
    "cv2.imshow('dst2',dst2) # 가로 배율로 늘리기\n",
    "cv2.imshow('dst_roate',dst_rotate) # 회전 시계방향\n",
    "cv2.imshow('dst_rotate2',dst_rotate2) # 회전 반시계\n",
    "cv2.waitKey()\n",
    "cv2.destroyAllWindows()"
   ]
  },
  {
   "cell_type": "code",
   "execution_count": 8,
   "metadata": {},
   "outputs": [],
   "source": [
    "# 8. 영상 어파인 변환 (확대/축소, 회전)\n",
    "import cv2\n",
    "import numpy as np\n",
    "src = cv2.imread('./images/lena.png')\n",
    "\n",
    "rows, cols, channels = src.shape\n",
    "M1 = cv2.getRotationMatrix2D((rows/2, cols/2), 45, 0.5) # getRotataionMatrix2D( center, angle, scale) \n",
    "M2 = cv2.getRotationMatrix2D((rows/2, cols/2), -45, 1.0) \n",
    "\n",
    "dst1 = cv2.warpAffine(src, M1, (rows, cols)) # warpAffine( src, M, dsize) -> M은 변환행렬\n",
    "dst2 = cv2.warpAffine(src, M2, (rows, cols))\n",
    "\n",
    "cv2.imshow('dst1', dst1)\n",
    "cv2.imshow('dst2', dst2)\n",
    "cv2.waitKey()\n",
    "cv2.destroyAllWindows()"
   ]
  },
  {
   "cell_type": "code",
   "execution_count": 9,
   "metadata": {},
   "outputs": [
    {
     "name": "stdout",
     "output_type": "stream",
     "text": [
      "ret= 120.0\n",
      "ret2= 124.0\n"
     ]
    }
   ],
   "source": [
    "# 9. 임계값 영상\n",
    "import cv2\n",
    "import numpy as np\n",
    "src = cv2.imread('./images/lena.png', cv2.IMREAD_GRAYSCALE)\n",
    "cv2.imshow('src',src)\n",
    "\n",
    "ret, dst = cv2.threshold(src, 120, 255, cv2.THRESH_BINARY)\n",
    "print('ret=',ret)\n",
    "cv2.imshow('dst',dst)\n",
    "\n",
    "# thresh_otsu를 추가하면 임계값 thresh와 관계없이 otsu알고리즘으로 최적 임계값 계산 됨0\n",
    "ret2, dst2 = cv2.threshold(src,200,255, cv2.THRESH_BINARY + cv2.THRESH_OTSU)# 즉 여기선 주어진 임계값 200이 아닌 170이 threshold가 됨.\n",
    "print(\"ret2=\",ret2)\n",
    "cv2.imshow('dst2',dst2)\n",
    "\n",
    "cv2.waitKey()\n",
    "cv2.destroyAllWindows()"
   ]
  },
  {
   "cell_type": "code",
   "execution_count": 10,
   "metadata": {},
   "outputs": [],
   "source": [
    "# 10. 적응형 임계값 영상\n",
    "import cv2\n",
    "import numpy as np\n",
    "src = cv2.imread('./images/lena.png', cv2.IMREAD_GRAYSCALE)\n",
    "cv2.imshow('src',src)\n",
    "\n",
    "ret,dst = cv2.threshold(src,0,255, cv2.THRESH_BINARY + cv2.THRESH_OTSU)\n",
    "cv2.imshow('dst',dst)\n",
    "\n",
    "# 젤 괜찮은 방법1\n",
    "dst2 = cv2.adaptiveThreshold(src,255,cv2.ADAPTIVE_THRESH_MEAN_C, cv2.THRESH_BINARY, 51, 7)\n",
    "cv2.imshow('dst2',dst2)\n",
    "\n",
    "# 젤 괜찮은방법2\n",
    "dst3 = cv2.adaptiveThreshold(src, 255, cv2.ADAPTIVE_THRESH_GAUSSIAN_C, cv2.THRESH_BINARY, 51, 7)\n",
    "cv2.imshow('dst3',dst3)\n",
    "\n",
    "cv2.waitKey()\n",
    "cv2.destroyAllWindows()"
   ]
  },
  {
   "cell_type": "code",
   "execution_count": 1,
   "metadata": {},
   "outputs": [
    {
     "data": {
      "image/png": "[encoded data removed]",
      "text/plain": [
       "<Figure size 432x288 with 1 Axes>"
      ]
     },
     "metadata": {
      "needs_background": "light"
     },
     "output_type": "display_data"
    }
   ],
   "source": [
    "# 11. 그레이스케일 영상의 히스토그램 평활화\n",
    "import cv2\n",
    "import numpy as np\n",
    "from matplotlib import pyplot as plt\n",
    "\n",
    "src = cv2.imread('./images/lena.png', cv2.IMREAD_GRAYSCALE)\n",
    "dst = cv2.equalizeHist(src)\n",
    "cv2.imshow('dst',dst)\n",
    "\n",
    "\n",
    "plt.title('Grayscale histogram of lena.png')\n",
    "\n",
    "hist1 = cv2.calcHist(images = [src], channels = [0], mask=None, histSize=[256], ranges=[0,256])\n",
    "plt.plot(hist1, color='b', label='hist1 in src')\n",
    "\n",
    "hist2 = cv2.calcHist(images = [dst], channels=[0], mask = None, histSize = [256], ranges=[0,256])\n",
    "plt.plot(hist2, color='r', alpha=0.7, label='hist2 in dst')\n",
    "plt.legend(loc='best')\n",
    "plt.show()\n",
    "\n",
    "cv2.waitKey()\n",
    "cv2.destroyAllWindows()"
   ]
  },
  {
   "cell_type": "code",
   "execution_count": 2,
   "metadata": {},
   "outputs": [],
   "source": [
    "# 12. 컬러영상의 히스토그램 평활화\n",
    "import cv2\n",
    "import numpy as np\n",
    "from matplotlib import pyplot as plt\n",
    "\n",
    "src = cv2.imread('./images/lena.png')\n",
    "cv2.imshow('src',src)\n",
    "\n",
    "#1 hsv\n",
    "# 1-1 색을 split로 분리하기\n",
    "hsv = cv2.cvtColor(src, cv2.COLOR_BGR2HSV)\n",
    "h, s, v = cv2.split(hsv)\n",
    "\n",
    "# 1-2 분리한 채널에서 v를 히스토그램 평활화 진행\n",
    "v2 = cv2.equalizeHist(v)\n",
    "\n",
    "# 1-3 분리하여 히스토그램 평활화 한 v2를 다시 합친다.\n",
    "hsv2 = cv2.merge([h,s,v2])\n",
    "dst = cv2.cvtColor(hsv2, cv2.COLOR_HSV2BGR)\n",
    "cv2.imshow('dst',dst)\n",
    "\n",
    "# 2 yCrCb - 밝기값 채널인 y에 히스토그램 평활화 적용\n",
    "# 2-1 색을 split로 분리하기\n",
    "yCrCb = cv2.cvtColor(src, cv2.COLOR_BGR2YCrCb)\n",
    "y, Cr, Cb = cv2.split(yCrCb)\n",
    "\n",
    "# 2-2 분리한 채널에서 y를 히스토그램 평활화를 진행\n",
    "y2 = cv2.equalizeHist(y)\n",
    "\n",
    "# 2-3 분리하여 히스토그램 평활화 한 y2를 다시 합친다.\n",
    "yCrCb2 = cv2.merge([y2, Cr, Cb])\n",
    "dst2 = cv2.cvtColor(yCrCb2, cv2.COLOR_YCrCb2BGR)\n",
    "\n",
    "cv2.imshow('dst2',dst2)\n",
    "cv2.waitKey()\n",
    "cv2.destroyAllWindows()"
   ]
  },
  {
   "cell_type": "code",
   "execution_count": 3,
   "metadata": {},
   "outputs": [],
   "source": [
    "# 13. 역투영 - 정해진 임계치와 비슷한 영역만 검출하기\n",
    "# 추적할 물체를 관심 영역으로 지정한 후에, 컬러 정보(hue)의 히스토그램을 계산하고, 추적할 때, 계산된 히스토그램을 비디오에 역투영하고\n",
    "# 임계치를 적용하여 추적을 위한 영상과 컬러 정보가 비슷한 영역만을 검추랗ㄹ 수 있다. \n",
    "# 비디오 물체추적 방법은 meanShift, CamShift 함수에서 히스토그램 역투영을 사용한다.\n",
    "\n",
    "import cv2\n",
    "import numpy as np\n",
    "\n",
    "img = cv2.imread(\"./images/hand2.jpg\")\n",
    "img = cv2.resize(img, dsize=(300,300))\n",
    "\n",
    "# YCrCb 로 변환\n",
    "img_ycrcb = cv2.cvtColor(img,cv2.COLOR_BGR2YCrCb)\n",
    "\n",
    "# 1-1 ycrcb 손모양만 검출\n",
    "# 살색은 기본적으로 : Cr:133 ~ 173, Cb :\"77~127\n",
    "# YCrCb -> y는 휘도성분, Cb와 Cr은 색차 성분 -> 색차란 임의의 색과 그 색과 같은 휘도를 가진 기준색과의 측색적인 차이\n",
    "# inRange함수는 특정색만 검출할 때 (0~255, 133~173. 77 ~ 127)\n",
    "hand = cv2.inRange(img_ycrcb, np.array([0,133,77]), np.array([255,173,127]))\n",
    "\n",
    "cv2.imshow(\"origin\",img)\n",
    "cv2.imshow(\"hand\",hand)\n",
    "cv2.waitKey(0)\n",
    "cv2.destroyAllWindows()"
   ]
  },
  {
   "cell_type": "code",
   "execution_count": 4,
   "metadata": {},
   "outputs": [],
   "source": [
    "# 14 영상 잡음제거 및 부드럽게 블러 & 스무딩\n",
    "# boxFilter(주변평균값필터), bilateralFilter(양방향), medianBlur, GaussianBlur 필터\n",
    "# 필터는 또는 윈도우라고 부르는데, 3x3, 5x5, 7x7,11x11과 같이 홀수크기를 주로 사용.\n",
    "import cv2\n",
    "import numpy as np\n",
    "\n",
    "src = cv2.imread('./images/lena.png')\n",
    "dst1 = cv2.boxFilter(src, ddepth=-1, ksize=(11,11))  # ddepth -> 출력화소의 구조 -1이면 src와 똑같\n",
    "dst2 = cv2.boxFilter(src, ddepth=-1, ksize=(21,21)) # ddepth -> 출력화소의 구조 -1이면 src와 똑같\n",
    "\n",
    "dst3 = cv2.bilateralFilter(src, d=11, sigmaColor=10, sigmaSpace=10)\n",
    "dst4 = cv2.bilateralFilter(src, d=-1, sigmaColor=10, sigmaSpace=10)\n",
    "\n",
    "# box형 필터\n",
    "cv2.imshow('dst1',dst1)\n",
    "cv2.imshow('dst2',dst2)\n",
    "\n",
    "# 양방향 필터\n",
    "cv2.imshow('dst3',dst3)\n",
    "cv2.imshow('dst4',dst4)\n",
    "cv2.waitKey()\n",
    "cv2.destroyAllWindows()"
   ]
  },
  {
   "cell_type": "code",
   "execution_count": 5,
   "metadata": {},
   "outputs": [],
   "source": [
    "# 15 미디안 필터, 블러, 가우시안 필터\n",
    "import cv2\n",
    "import numpy as np\n",
    "\n",
    "src = cv2.imread('./images/lena.png')\n",
    "dst1 = cv2.medianBlur(src, ksize=7)\n",
    "dst2 = cv2.blur(src, ksize=(7,7))\n",
    "dst3 = cv2.GaussianBlur(src, ksize=(7,7), sigmaX = 0.0)\n",
    "dst4 = cv2.GaussianBlur(src, ksize=(7,7), sigmaX = 10.0)\n",
    "\n",
    "cv2.imshow('medianblur',dst1) # medainblur\n",
    "cv2.imshow('blur',dst2)\n",
    "cv2.imshow('gaussianblur_sigmaX=0',dst3)\n",
    "cv2.imshow('gaussianblur_sigmaX=10.0',dst4)\n",
    "cv2.waitKey()\n",
    "cv2.destroyAllWindows()"
   ]
  },
  {
   "cell_type": "code",
   "execution_count": 6,
   "metadata": {},
   "outputs": [
    {
     "name": "stdout",
     "output_type": "stream",
     "text": [
      "mag: 0.0 672.8714599609375 (0, 0) (118, 274)\n"
     ]
    }
   ],
   "source": [
    "# 16. 미분필터 - Sobel 필터\n",
    "# ksize=3 에서의 1차 필터\n",
    "#  -1  0  1    -1 -2 -1         1  0  -1\n",
    "#  -2  0  2     0  0  0         0  0  0\n",
    "#  -1  0  1     1  2  1        -1  0  1\n",
    "#  dx=1, dy=0  / dx=0 dy=1  / dx=1, dy=1\n",
    "\n",
    "# ksize=3에서 2차 미분 필터\n",
    "#  1  -2  1    1  2  1      1  -2  1\n",
    "#  2  -4  2   -2 -4  -2    -2  4  -2\n",
    "#  1  2  1    1   2  1     1  -2  1\n",
    "#  dx=2, dy=0  / dx=0 dy=0  / dx=2 dy=2\n",
    "\n",
    "import cv2\n",
    "import numpy as np\n",
    "src = cv2.imread('./images/lena.png', cv2.IMREAD_GRAYSCALE)\n",
    "\n",
    "#1 - Sobel함수 계산\n",
    "gx = cv2.Sobel(src, cv2.CV_32F, 1, 0, ksize=3) # x에게로 1차 편미분\n",
    "gy = cv2.Sobel(src, cv2.CV_32F, 0, 1, ksize=3) # y에게로 1차 편미분\n",
    "\n",
    "#2 - 세로잘나오게\n",
    "dstX = cv2.sqrt(np.abs(gx))\n",
    "dstX = cv2.normalize(dstX, None, 0, 255, cv2.NORM_MINMAX, dtype=cv2.CV_8U)\n",
    "\n",
    "#3 - 가로 잘나오게\n",
    "dstY = cv2.sqrt(np.abs(gy))\n",
    "dstY = cv2.normalize(dstY, None, 0, 255, cv2.NORM_MINMAX, dtype = cv2.CV_8U)\n",
    "\n",
    "#4 - 가로세로 둘다 잘나오게\n",
    "mag = cv2.magnitude(gx, gy)\n",
    "minVal, maxVal, minLoc, maxLoc = cv2.minMaxLoc(mag)\n",
    "print('mag:', minVal, maxVal, minLoc, maxLoc)\n",
    "\n",
    "dstM = cv2.normalize(mag, None, 0, 255, cv2.NORM_MINMAX, dtype=cv2.CV_8U)\n",
    "\n",
    "cv2.imshow('src',src)\n",
    "cv2.imshow('dstX',dstX) # 세로선 더 잘잡음 (행)\n",
    "cv2.imshow('dstY',dstY) # 가로선 더 잘잡음 (열)\n",
    "cv2.imshow('dstM',dstM) # \n",
    "cv2.waitKey()\n",
    "cv2.destroyAllWindows()"
   ]
  },
  {
   "cell_type": "code",
   "execution_count": 7,
   "metadata": {},
   "outputs": [
    {
     "name": "stdout",
     "output_type": "stream",
     "text": [
      "lap: -199.0 168.0 (70, 414) (212, 299)\n",
      "lap2: -34.0 26.0 (180, 435) (163, 409)\n"
     ]
    }
   ],
   "source": [
    "# 17. Laplacian 필터\n",
    "import cv2\n",
    "import numpy as np\n",
    "\n",
    "#1 원본, 블러처리 두개 만들기\n",
    "src = cv2.imread('./images/lena.png', cv2.IMREAD_GRAYSCALE)\n",
    "blur = cv2.GaussianBlur(src, ksize=(7,7), sigmaX=0.0)\n",
    "cv2.imshow('src', src)\n",
    "cv2.imshow('blur', blur)\n",
    "\n",
    "# 2 블러처리 안한 영상에 Laplacian\n",
    "lap = cv2.Laplacian(src, cv2.CV_32F)\n",
    "minVal, maxVal, minLoc, maxLoc = cv2.minMaxLoc(lap)\n",
    "print('lap:', minVal, maxVal, minLoc, maxLoc)\n",
    "dst = cv2.convertScaleAbs(lap)\n",
    "dst = cv2.normalize(dst, None, 0,255,cv2.NORM_MINMAX)\n",
    "cv2.imshow('lap',lap)\n",
    "cv2.imshow('dst', dst)\n",
    "\n",
    "#3 블러처리한 영상에 Laplacian\n",
    "lap2 = cv2.Laplacian(blur, cv2.CV_32F)\n",
    "minVal, maxVal, minLoc, maxLoc = cv2.minMaxLoc(lap2)\n",
    "print('lap2:', minVal, maxVal, minLoc, maxLoc)\n",
    "dst2 = cv2.convertScaleAbs(lap2)\n",
    "dst2 = cv2.normalize(dst2, None, 0, 255, cv2.NORM_MINMAX)\n",
    "\n",
    "cv2.imshow('lap2', lap2)\n",
    "cv2.imshow('dst2', dst2)\n",
    "cv2.waitKey()\n",
    "cv2.destroyAllWindows()\n",
    "\n",
    "# 결론 - blur 처리한게 더 엣지를 잘 검출해냄. (흔히 미분 오차를 줄이기 위해서 blur를 한다고 함)"
   ]
  },
  {
   "cell_type": "code",
   "execution_count": 8,
   "metadata": {},
   "outputs": [
    {
     "name": "stdout",
     "output_type": "stream",
     "text": [
      "kx= [[-1.]\n",
      " [ 0.]\n",
      " [ 1.]]\n",
      "ky= [[1.]\n",
      " [2.]\n",
      " [1.]]\n",
      "sobelX= [[-1.  0.  1.]\n",
      " [-2.  0.  2.]\n",
      " [-1.  0.  1.]]\n",
      "kx= [[1.]\n",
      " [2.]\n",
      " [1.]]\n",
      "ky= [[-1.]\n",
      " [ 0.]\n",
      " [ 1.]]\n",
      "sobelY= [[-1. -2. -1.]\n",
      " [ 0.  0.  0.]\n",
      " [ 1.  2.  1.]]\n"
     ]
    }
   ],
   "source": [
    "# 18. filter2D()와 sepFilter2D() 에 의한 엣지 검출\n",
    "# 앵커점은 필터의 기준이 되는 중심점으로 필터 크기가 3x3이면 anchor = Point(1,1)이고, 필터 크기가 5x5이면 anchor=Point(2,2) 이다.\n",
    "# OpenCV는 cv2.filter2D()와 cv2.sepFilter2D()로 함수에 적용 가능하다.\n",
    "# filter2D(src, ddepth, kernel) 입력 src에 윈도우 kernel을 이용하여 회선을 계산하여 dst에 저장한다.\n",
    "# sepFilter2D(src, ddepth, kernelX, kernelY) kernelX 적용한 결과의 각 열에 커널 kernelY 적용하여 필터링\n",
    "# ddepth는 dst의 화소 깊이로 ddepth=-1이면 입력과 같은 화소 깊이\n",
    "# kernel은 1-채널 실수 배열로 src의 모든 채널에 동일하게 적용된다. anchor는 커널의 중심점으로 kernel내의 위치\n",
    "\n",
    "import cv2\n",
    "import numpy as np\n",
    "\n",
    "src= cv2.imread('./images/lena.png', cv2.IMREAD_GRAYSCALE)\n",
    "\n",
    "#1 미분선형 필터 kx, ky 생성후 \n",
    "kx, ky = cv2.getDerivKernels(1,0,ksize=3) # 커널 생성\n",
    "sobelX = ky.dot(kx.T)\n",
    "print('kx=', kx)\n",
    "print('ky=', ky)\n",
    "print('sobelX=', sobelX)\n",
    "gy = cv2.filter2D(src, cv2.CV_32F, sobelX)\n",
    "## gx = cv2.sepFilter2D(src, cv2.CV_32F, kx, ky)\n",
    "\n",
    "#2\n",
    "kx, ky = cv2.getDerivKernels(0, 1, ksize=3) # 커널 생성\n",
    "sobelY = ky.dot(kx.T)\n",
    "print('kx=', kx)\n",
    "print('ky=', ky)\n",
    "print('sobelY=', sobelY)\n",
    "gy = cv2.filter2D(src, cv2.CV_32F, sobelY)\n",
    "## gy = cv2.sepFilter2D(src, cv2.CV_32F, kx, ky)\n",
    "\n",
    "# 3 \n",
    "mag = cv2.magnitude(gx, gy)\n",
    "ret, edge = cv2.threshold(mag, 100, 255, cv2.THRESH_BINARY)\n",
    "\n",
    "cv2.imshow('edge', edge)\n",
    "cv2.waitKey()\n",
    "cv2.destroyAllWindows()"
   ]
  },
  {
   "cell_type": "code",
   "execution_count": 9,
   "metadata": {},
   "outputs": [],
   "source": [
    "# 19 모폴로지 연산\n",
    "# 침식(erode), 팽창(diate), 열기 (open), 닫기(closing)\n",
    "# getStructuringElement() , erode(), dilate(), morphologyEx 등\n",
    "# getStructuringElement() 함수는 모폴로지 연산에 사용하는 MORPH_RECT, MORPH_ELLIPSE, MORPH_CROSS 모양의 ksize 크기 구조요소 반환\n",
    "\n",
    "import cv2\n",
    "import numpy as np\n",
    "\n",
    "src = cv2.imread('./images/morphology.png', cv2.IMREAD_GRAYSCALE)\n",
    "kernel = cv2.getStructuringElement(shape = cv2.MORPH_RECT, ksize =(3,3))\n",
    "closing = cv2.morphologyEx(src, cv2.MORPH_CLOSE ,kernel, iterations =5)\n",
    "opening = cv2.morphologyEx(src, cv2.MORPH_OPEN, kernel, iterations=5)\n",
    "gradient = cv2.morphologyEx(opening, cv2.MORPH_GRADIENT, kernel)\n",
    "\n",
    "tophat = cv2.morphologyEx(src, cv2.MORPH_TOPHAT, kernel, iterations = 5)\n",
    "balckhat = cv2.morphologyEx(src, cv2.MORPH_BLACKHAT, kernel, iterations = 5)\n",
    "\n",
    "cv2.imshow('opening', opening)\n",
    "cv2.imshow('closing', closing)\n",
    "cv2.imshow('gradient', gradient)\n",
    "cv2.imshow('tophat', tophat)\n",
    "cv2.imshow('balckhat', balckhat)\n",
    "cv2.waitKey()\n",
    "cv2.destroyAllWindows()"
   ]
  },
  {
   "cell_type": "code",
   "execution_count": 10,
   "metadata": {},
   "outputs": [
    {
     "name": "stdout",
     "output_type": "stream",
     "text": [
      "TM_SQDIFF_NORMED: 0.08143040537834167 (115, 210)\n",
      "TM_CCORR_NORMED: 0.9241043329238892 (70, 265)\n",
      "TM_CCOEFF_NORMED 0.5613408088684082 (217, 277)\n"
     ]
    }
   ],
   "source": [
    "# 20 템플릿 매칭\n",
    "# 템플릿 매칭은 물체 인식, 스테레오 영상에서 대응점 검출등에 사용될 수 있다. \n",
    "# 템플릿 매칭은 이동(translation) 문제는 해결할 수 있지만, 회전 및 스케일링된 물체에 대한 매칭은 여러 개의 템플릿을 이용할수있으나 어려움\n",
    "# 에지, 코너점, 주파수 변환등의 특징 공간으로 변환하여 템프릿 매칭을 수행할 수도 있으며, 영상의 밝기 등에 덜 민감하도록 정규화 과정 필요\n",
    "# 매칭 방법은 상관관계(correlatin), SAD(Sum of absolute differences) 등을 사용한다.\n",
    "# method = cv2.TM_SQDIFF - 템플릿 T를 탐색영역 I에서 이동시켜가며 차이의 제곱합계를 계산한다.\n",
    "# method = cv2.TM_SQDIFF_NORMED - R(sqdiff)을 D로 나누어 정규화한다.\n",
    "# method = cv2.TM_CCORR - 템플릿 T를 탐색영역 I에서 이도이켜가며 곱의 한계를 계산한다.\n",
    "# method = cv2.TM_CCORR_NORMED - R(ccorr)을 D로 나누어 정규화한다.\n",
    "# method = cv2.TM_CCOEFF - T은 템플릿 T의 각 요소값에서 평균을 뺄셈한 변환 템플릿이며 각 평균값으로 보정하여 비교함. 매칭되는 위치에서 큰 값을 가짐\n",
    "# method = cv2.TM_CCOEFF_NORMED - R(ccoeff)을 D로 나누어 정규화한다.\n",
    "import cv2\n",
    "import numpy as np\n",
    "\n",
    "src = cv2.imread('./images/alphabet.bmp', cv2.IMREAD_GRAYSCALE)\n",
    "tmp_A = cv2.imread('./images/a.bmp', cv2.IMREAD_GRAYSCALE)\n",
    "tmp_B = cv2.imread('./images/b.png', cv2.IMREAD_GRAYSCALE)\n",
    "tmp_D = cv2.imread('./images/d.png', cv2.IMREAD_GRAYSCALE)\n",
    "tmp_G = cv2.imread('./images/g.png', cv2.IMREAD_GRAYSCALE)\n",
    "dst = cv2.cvtColor(src, cv2.COLOR_GRAY2BGR)\n",
    "\n",
    "#1 \n",
    "R1 = cv2.matchTemplate(src, tmp_A, cv2.TM_SQDIFF_NORMED)\n",
    "minVal, _, minLoc, _ = cv2.minMaxLoc(R1)\n",
    "print('TM_SQDIFF_NORMED:', minVal, minLoc)\n",
    "\n",
    "w, h = tmp_A.shape[:2]\n",
    "cv2.rectangle(dst, minLoc, (minLoc[0] + h, minLoc[1] + w),(255,0,0,),2)\n",
    "\n",
    "#2 - \n",
    "R2 = cv2.matchTemplate(src, tmp_B, cv2.TM_CCORR_NORMED)\n",
    "_, maxVal, _, maxLoc = cv2.minMaxLoc(R2)\n",
    "print('TM_CCORR_NORMED:', maxVal, maxLoc)\n",
    "w, h = tmp_B.shape[:2]\n",
    "cv2.rectangle(dst, maxLoc, (maxLoc[0] +h, maxLoc[1] + w), (0,255,0), 2)\n",
    "\n",
    "#3 - TM_CCOEFF_NORMED 방법으로 매칭한 결과를 R3에 저장\n",
    "R3 = cv2.matchTemplate(src, tmp_D, cv2.TM_CCOEFF_NORMED)\n",
    "_, maxVal, _, maxLoc = cv2.minMaxLoc(R3)\n",
    "print('TM_CCOEFF_NORMED', maxVal, maxLoc)\n",
    "w, h = tmp_D.shape[:2]\n",
    "cv2.rectangle(dst, maxLoc, (maxLoc[0] + h, maxLoc[1] + w), (0,0,255), 2)\n",
    "cv2.imshow('dst', dst)\n",
    "cv2.waitKey()\n",
    "cv2.destroyAllWindows()"
   ]
  },
  {
   "cell_type": "code",
   "execution_count": null,
   "metadata": {},
   "outputs": [],
   "source": []
  }
 ],
 "metadata": {
  "kernelspec": {
   "display_name": "Python 3",
   "language": "python",
   "name": "python3"
  },
  "language_info": {
   "codemirror_mode": {
    "name": "ipython",
    "version": 3
   },
   "file_extension": ".py",
   "mimetype": "text/x-python",
   "name": "python",
   "nbconvert_exporter": "python",
   "pygments_lexer": "ipython3",
   "version": "3.7.5"
  }
 },
 "nbformat": 4,
 "nbformat_minor": 4
}
